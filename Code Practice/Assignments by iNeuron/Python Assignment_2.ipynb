{
 "cells": [
  {
   "cell_type": "markdown",
   "id": "08c66ea5",
   "metadata": {
    "id": "08c66ea5"
   },
   "source": [
    "## Programming Assignment_2\n",
    "-------------\n",
    "- (By Lakshmi)"
   ]
  },
  {
   "cell_type": "markdown",
   "id": "4e50cf42",
   "metadata": {
    "id": "4e50cf42"
   },
   "source": [
    "### 1. Write a Python program to convert kilometers to miles?"
   ]
  },
  {
   "cell_type": "code",
   "execution_count": 5,
   "id": "0d398274-c9bb-4c61-a40f-dfe9cfc857cf",
   "metadata": {},
   "outputs": [
    {
     "name": "stdout",
     "output_type": "stream",
     "text": [
      "Enter value in kilometers: 789\n",
      "789.00 Kilometers is equal to 490.26 Miles:\n"
     ]
    }
   ],
   "source": [
    "#Taking Kilometers input by the user:-\n",
    "Km = float(input(\"Enter value in kilometers: \"))\n",
    "\n",
    "#Conversion rate of 1 Kilometers into Miles:-\n",
    "conv_rate = 0.621371\n",
    "\n",
    "#Calculate Kilometers in Miles:-\n",
    "Miles = Km * conv_rate\n",
    "\n",
    "#Printing Coversion of Kilometers into Miles:-\n",
    "print('%0.2f Kilometers is equal to %0.2f Miles:' %(Km, Miles))"
   ]
  },
  {
   "cell_type": "markdown",
   "id": "0df4e6bf",
   "metadata": {
    "id": "0df4e6bf"
   },
   "source": [
    "### 2.Write a Python program to convert Celsius to Fahrenheit?"
   ]
  },
  {
   "cell_type": "code",
   "execution_count": 6,
   "id": "8334c321-939b-4d48-be0d-bbb8374ae897",
   "metadata": {},
   "outputs": [
    {
     "name": "stdout",
     "output_type": "stream",
     "text": [
      "Enter value in Celsius: 45.5\n",
      "45.50 Celsius is equal to 1537.90 Fahrenheit\n"
     ]
    }
   ],
   "source": [
    "#Taking Celsius input by the user:-\n",
    "Celsius = float(input(\"Enter value in Celsius: \"))\n",
    "\n",
    "#Conversion rate of 1 Celsius into Fahrenheit:-\n",
    "conv_rate = 33.8\n",
    "\n",
    "#Calculate Celsius in Fahrenheit:-\n",
    "Fahrenheit = Celsius * conv_rate\n",
    "\n",
    "#Printing Coversion of Celsius into Fahrenheit:-\n",
    "print('%0.2f Celsius is equal to %0.2f Fahrenheit' %(Celsius, Fahrenheit))"
   ]
  },
  {
   "cell_type": "markdown",
   "id": "46129b8e",
   "metadata": {
    "id": "46129b8e"
   },
   "source": [
    "### 3. Write a Python program to display calendar?"
   ]
  },
  {
   "cell_type": "code",
   "execution_count": 7,
   "id": "c18b268b-eb76-4c23-93a5-1d9c26bde661",
   "metadata": {},
   "outputs": [
    {
     "name": "stdout",
     "output_type": "stream",
     "text": [
      "Enter Year: 2017\n",
      "Enter Month: 12\n",
      "   December 2017\n",
      "Mo Tu We Th Fr Sa Su\n",
      "             1  2  3\n",
      " 4  5  6  7  8  9 10\n",
      "11 12 13 14 15 16 17\n",
      "18 19 20 21 22 23 24\n",
      "25 26 27 28 29 30 31\n",
      "\n"
     ]
    }
   ],
   "source": [
    "#First importing Calendar module:-\n",
    "import calendar\n",
    "\n",
    "#To take month and year input from the user:-\n",
    "Year = int(input(\"Enter Year: \"))\n",
    "Month = int(input(\"Enter Month: \"))\n",
    "\n",
    "#Printing the calendar:-\n",
    "print(calendar.month(Year, Month))"
   ]
  },
  {
   "cell_type": "markdown",
   "id": "db2bf0f7",
   "metadata": {
    "id": "db2bf0f7"
   },
   "source": [
    "### 4. Write a Python program to solve quadratic equation?"
   ]
  },
  {
   "cell_type": "code",
   "execution_count": 8,
   "id": "fbbf6325-e51f-4b46-be19-87379b5af34d",
   "metadata": {},
   "outputs": [
    {
     "name": "stdout",
     "output_type": "stream",
     "text": [
      "Enter value of a: 4\n",
      "Enter value of b: 2\n",
      "Enter value of c: 6\n",
      "The solution are (-0.25-1.1989578808281798j) and (-0.25+1.1989578808281798j): \n"
     ]
    }
   ],
   "source": [
    "#Frist import Complex Math module:-\n",
    "import cmath\n",
    "\n",
    "#To take a, b,c input from the user:-\n",
    "a = int(input('Enter value of a: '))\n",
    "b = int(input('Enter value of b: '))\n",
    "c = int(input('Enter value of c: '))\n",
    "\n",
    "#Calculate the discriminant:-\n",
    "d = (b**2) - (4*a*c)\n",
    "\n",
    "#Find two solutions:-\n",
    "sol1 = (-b-cmath.sqrt(d))/(2*a)\n",
    "sol2 = (-b+cmath.sqrt(d))/(2*a)\n",
    "\n",
    "#Printing the Quadratic Equation solutions:-\n",
    "print('The solution are {0} and {1}: '.format(sol1,sol2))"
   ]
  },
  {
   "cell_type": "markdown",
   "id": "f70f74c9",
   "metadata": {
    "id": "f70f74c9"
   },
   "source": [
    "### 5. Write a Python program to swap two variables without temp variable?"
   ]
  },
  {
   "cell_type": "code",
   "execution_count": 9,
   "id": "8de93d3b-5a9f-4720-a0ea-488f03d5029c",
   "metadata": {},
   "outputs": [
    {
     "name": "stdout",
     "output_type": "stream",
     "text": [
      "Enter First Number: 57\n",
      "Enter Second Number: 625\n",
      "Before swapping: \n",
      "Value of Num_1 :  57  and Num_2 :  625\n",
      "After swapping: \n",
      "Value of Num_1 :  625  and Num_2 :  57\n"
     ]
    }
   ],
   "source": [
    "#Taking input from user:-\n",
    "Num_1 = int(input('Enter First Number: '))\n",
    "Num_2 = int(input('Enter Second Number: '))\n",
    " \n",
    "print (\"Before swapping: \")\n",
    "print(\"Value of Num_1 : \", Num_1, \" and Num_2 : \", Num_2)\n",
    " \n",
    "#Swapping 'Num_1' and 'Num_2':-\n",
    "Num_1, Num_2 = Num_2, Num_1\n",
    " \n",
    "print (\"After swapping: \")\n",
    "print(\"Value of Num_1 : \", Num_1, \" and Num_2 : \", Num_2)"
   ]
  }
 ],
 "metadata": {
  "colab": {
   "provenance": []
  },
  "kernelspec": {
   "display_name": "Python 3 (ipykernel)",
   "language": "python",
   "name": "python3"
  },
  "language_info": {
   "codemirror_mode": {
    "name": "ipython",
    "version": 3
   },
   "file_extension": ".py",
   "mimetype": "text/x-python",
   "name": "python",
   "nbconvert_exporter": "python",
   "pygments_lexer": "ipython3",
   "version": "3.10.2"
  }
 },
 "nbformat": 4,
 "nbformat_minor": 5
}
