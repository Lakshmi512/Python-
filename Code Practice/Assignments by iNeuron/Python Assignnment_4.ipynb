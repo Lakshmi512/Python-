{
 "cells": [
  {
   "cell_type": "markdown",
   "id": "0638bb8d",
   "metadata": {},
   "source": [
    "## Programming Assignment_4\n",
    "----------------\n",
    "- (By Lakshmi)"
   ]
  },
  {
   "cell_type": "markdown",
   "id": "f6c6a26f",
   "metadata": {},
   "source": [
    "### 1. Write a Python Program to Find the Factorial of a Number?"
   ]
  },
  {
   "cell_type": "code",
   "execution_count": 1,
   "id": "c7f918d1",
   "metadata": {},
   "outputs": [
    {
     "name": "stdout",
     "output_type": "stream",
     "text": [
      "Enter a number: 59\n",
      "The factorial of 59 is 138683118545689835737939019720389406345902876772687432540821294940160000000000000\n"
     ]
    }
   ],
   "source": [
    "#Taking Number input from user:-\n",
    "num = int(input(\"Enter a number: \"))\n",
    "factorial = 1\n",
    "#Check if the number is \"-ve\" \"0\" or \"+ve\"\n",
    "if num < 0:\n",
    "    print(\"Sorry, factorial does not exist for negative numbers\")\n",
    "elif num == 0:\n",
    "    print(\"The factorial of 0 is 1\")\n",
    "else:\n",
    "    for i in range(1,num + 1):\n",
    "        factorial=factorial*i\n",
    "    print(\"The factorial of\",num,\"is\",factorial)"
   ]
  },
  {
   "cell_type": "markdown",
   "id": "4b1a28eb",
   "metadata": {},
   "source": [
    "### 2. Write a Python Program to Display the multiplication Table?"
   ]
  },
  {
   "cell_type": "code",
   "execution_count": 2,
   "id": "00b08ae3",
   "metadata": {},
   "outputs": [
    {
     "name": "stdout",
     "output_type": "stream",
     "text": [
      "Display multiplication table of? 56\n",
      "56 x 1 = 56\n",
      "56 x 2 = 112\n",
      "56 x 3 = 168\n",
      "56 x 4 = 224\n",
      "56 x 5 = 280\n",
      "56 x 6 = 336\n",
      "56 x 7 = 392\n",
      "56 x 8 = 448\n",
      "56 x 9 = 504\n",
      "56 x 10 = 560\n"
     ]
    }
   ],
   "source": [
    "#Taking Number input from the user:-\n",
    "num = int(input(\"Display multiplication table of? \"))\n",
    "\n",
    "# Iterate 10 times from i = 1 to 10\n",
    "for i in range(1, 11):\n",
    "    print(num, 'x', i, '=', num*i)"
   ]
  },
  {
   "cell_type": "markdown",
   "id": "3befff20",
   "metadata": {},
   "source": [
    "### 3. Write a Python Program to Print the Fibonacci sequence?"
   ]
  },
  {
   "cell_type": "code",
   "execution_count": 5,
   "id": "59b9166b",
   "metadata": {},
   "outputs": [
    {
     "name": "stdout",
     "output_type": "stream",
     "text": [
      "Enter a Number for the n-th terms you want in Fibonacci sequence 89\n",
      "Fibonacci sequence:\n",
      "0\n",
      "1\n",
      "1\n",
      "2\n",
      "3\n",
      "5\n",
      "8\n",
      "13\n",
      "21\n",
      "34\n",
      "55\n",
      "89\n",
      "144\n",
      "233\n",
      "377\n",
      "610\n",
      "987\n",
      "1597\n",
      "2584\n",
      "4181\n",
      "6765\n",
      "10946\n",
      "17711\n",
      "28657\n",
      "46368\n",
      "75025\n",
      "121393\n",
      "196418\n",
      "317811\n",
      "514229\n",
      "832040\n",
      "1346269\n",
      "2178309\n",
      "3524578\n",
      "5702887\n",
      "9227465\n",
      "14930352\n",
      "24157817\n",
      "39088169\n",
      "63245986\n",
      "102334155\n",
      "165580141\n",
      "267914296\n",
      "433494437\n",
      "701408733\n",
      "1134903170\n",
      "1836311903\n",
      "2971215073\n",
      "4807526976\n",
      "7778742049\n",
      "12586269025\n",
      "20365011074\n",
      "32951280099\n",
      "53316291173\n",
      "86267571272\n",
      "139583862445\n",
      "225851433717\n",
      "365435296162\n",
      "591286729879\n",
      "956722026041\n",
      "1548008755920\n",
      "2504730781961\n",
      "4052739537881\n",
      "6557470319842\n",
      "10610209857723\n",
      "17167680177565\n",
      "27777890035288\n",
      "44945570212853\n",
      "72723460248141\n",
      "117669030460994\n",
      "190392490709135\n",
      "308061521170129\n",
      "498454011879264\n",
      "806515533049393\n",
      "1304969544928657\n",
      "2111485077978050\n",
      "3416454622906707\n",
      "5527939700884757\n",
      "8944394323791464\n",
      "14472334024676221\n",
      "23416728348467685\n",
      "37889062373143906\n",
      "61305790721611591\n",
      "99194853094755497\n",
      "160500643816367088\n",
      "259695496911122585\n",
      "420196140727489673\n",
      "679891637638612258\n",
      "1100087778366101931\n"
     ]
    }
   ],
   "source": [
    "#Taking n-th term input for Fibonacci sequence from the user:-\n",
    "nterms = int(input(\"Enter a Number for the n-th terms you want in Fibonacci sequence \"))\n",
    "\n",
    "#First two terms\n",
    "n1, n2 = 0, 1\n",
    "count = 0\n",
    "\n",
    "#Check if the number of terms is valid:-\n",
    "if nterms <= 0:\n",
    "    print(\"Please enter a positive integer\")\n",
    "#If there is only one term, return n1:-\n",
    "elif nterms == 1:\n",
    "    print(\"Fibonacci sequence upto\",nterms,\":\")\n",
    "    print(n1)\n",
    "#Generate fibonacci sequence:-\n",
    "else:\n",
    "    print(\"Fibonacci sequence:\")\n",
    "    while count < nterms:\n",
    "        print(n1)\n",
    "        nth = n1 + n2\n",
    "        #Value Updation:-\n",
    "        n1 = n2\n",
    "        n2 = nth\n",
    "        count += 1"
   ]
  },
  {
   "cell_type": "markdown",
   "id": "e5d51073",
   "metadata": {},
   "source": [
    "### 4. Write a Python Program to Check Armstrong Number?"
   ]
  },
  {
   "cell_type": "code",
   "execution_count": 6,
   "id": "e1a9a0a6",
   "metadata": {},
   "outputs": [
    {
     "name": "stdout",
     "output_type": "stream",
     "text": [
      "Enter a Number: 12\n",
      "12 is not an Armstrong number\n"
     ]
    }
   ],
   "source": [
    "#Taking input from the user:-\n",
    "num = int(input(\"Enter a Number: \"))\n",
    "\n",
    "#Initialize sum:-\n",
    "sum = 0\n",
    "\n",
    "#Find the sum of the cube of each digit:-\n",
    "temp = num\n",
    "while temp > 0:\n",
    "    digit = temp % 10\n",
    "    sum += digit ** 3\n",
    "    temp //= 10\n",
    "\n",
    "#Printing the result:-\n",
    "if num == sum:\n",
    "    print(num,\"is an Armstrong number\")\n",
    "else:\n",
    "    print(num,\"is not an Armstrong number\")"
   ]
  },
  {
   "cell_type": "markdown",
   "id": "8fefa428",
   "metadata": {},
   "source": [
    "### 5. Write a Python Program to Find Armstrong Number in an Interval?"
   ]
  },
  {
   "cell_type": "code",
   "execution_count": 7,
   "id": "d20e9acf",
   "metadata": {},
   "outputs": [
    {
     "name": "stdout",
     "output_type": "stream",
     "text": [
      "Enter a Number: 56\n",
      "125\n",
      "153\n",
      "216\n",
      "370\n",
      "371\n",
      "407\n",
      "729\n",
      "1296\n",
      "1634\n"
     ]
    }
   ],
   "source": [
    "#Taking input from the user:-\n",
    "num = int(input(\"Enter a Number: \"))\n",
    "\n",
    "lower = 100\n",
    "upper = 2000\n",
    "\n",
    "for num in range(lower, upper + 1):\n",
    "    # order of number\n",
    "    order = len(str(num))\n",
    "    # initialize sum\n",
    "    sum = 0\n",
    "    temp = num\n",
    "    while temp > 0:\n",
    "        digit = temp % 10\n",
    "        sum += digit ** order\n",
    "        temp //= 10\n",
    "        if num == sum:\n",
    "            print(num)"
   ]
  },
  {
   "cell_type": "markdown",
   "id": "e730a02a",
   "metadata": {},
   "source": [
    "### 6. Write a Python Program to Find the Sum of Natural Numbers?"
   ]
  },
  {
   "cell_type": "code",
   "execution_count": 8,
   "id": "bce7e19a",
   "metadata": {},
   "outputs": [
    {
     "name": "stdout",
     "output_type": "stream",
     "text": [
      "Enter a Number: 95\n",
      "The sum is 95\n",
      "The sum is 189\n",
      "The sum is 282\n",
      "The sum is 374\n",
      "The sum is 465\n",
      "The sum is 555\n",
      "The sum is 644\n",
      "The sum is 732\n",
      "The sum is 819\n",
      "The sum is 905\n",
      "The sum is 990\n",
      "The sum is 1074\n",
      "The sum is 1157\n",
      "The sum is 1239\n",
      "The sum is 1320\n",
      "The sum is 1400\n",
      "The sum is 1479\n",
      "The sum is 1557\n",
      "The sum is 1634\n",
      "The sum is 1710\n",
      "The sum is 1785\n",
      "The sum is 1859\n",
      "The sum is 1932\n",
      "The sum is 2004\n",
      "The sum is 2075\n",
      "The sum is 2145\n",
      "The sum is 2214\n",
      "The sum is 2282\n",
      "The sum is 2349\n",
      "The sum is 2415\n",
      "The sum is 2480\n",
      "The sum is 2544\n",
      "The sum is 2607\n",
      "The sum is 2669\n",
      "The sum is 2730\n",
      "The sum is 2790\n",
      "The sum is 2849\n",
      "The sum is 2907\n",
      "The sum is 2964\n",
      "The sum is 3020\n",
      "The sum is 3075\n",
      "The sum is 3129\n",
      "The sum is 3182\n",
      "The sum is 3234\n",
      "The sum is 3285\n",
      "The sum is 3335\n",
      "The sum is 3384\n",
      "The sum is 3432\n",
      "The sum is 3479\n",
      "The sum is 3525\n",
      "The sum is 3570\n",
      "The sum is 3614\n",
      "The sum is 3657\n",
      "The sum is 3699\n",
      "The sum is 3740\n",
      "The sum is 3780\n",
      "The sum is 3819\n",
      "The sum is 3857\n",
      "The sum is 3894\n",
      "The sum is 3930\n",
      "The sum is 3965\n",
      "The sum is 3999\n",
      "The sum is 4032\n",
      "The sum is 4064\n",
      "The sum is 4095\n",
      "The sum is 4125\n",
      "The sum is 4154\n",
      "The sum is 4182\n",
      "The sum is 4209\n",
      "The sum is 4235\n",
      "The sum is 4260\n",
      "The sum is 4284\n",
      "The sum is 4307\n",
      "The sum is 4329\n",
      "The sum is 4350\n",
      "The sum is 4370\n",
      "The sum is 4389\n",
      "The sum is 4407\n",
      "The sum is 4424\n",
      "The sum is 4440\n",
      "The sum is 4455\n",
      "The sum is 4469\n",
      "The sum is 4482\n",
      "The sum is 4494\n",
      "The sum is 4505\n",
      "The sum is 4515\n",
      "The sum is 4524\n",
      "The sum is 4532\n",
      "The sum is 4539\n",
      "The sum is 4545\n",
      "The sum is 4550\n",
      "The sum is 4554\n",
      "The sum is 4557\n",
      "The sum is 4559\n",
      "The sum is 4560\n"
     ]
    }
   ],
   "source": [
    "#Taking input from the user:-\n",
    "num = int(input(\"Enter a Number: \"))\n",
    "\n",
    "if num < 0:\n",
    "    print(\"Enter a positive number\")\n",
    "else:\n",
    "    sum = 0\n",
    "    #Use while loop to iterate until zero\n",
    "    while(num > 0):\n",
    "        sum += num\n",
    "        num -= 1\n",
    "        print(\"The sum is\", sum)"
   ]
  }
 ],
 "metadata": {
  "kernelspec": {
   "display_name": "Python 3 (ipykernel)",
   "language": "python",
   "name": "python3"
  },
  "language_info": {
   "codemirror_mode": {
    "name": "ipython",
    "version": 3
   },
   "file_extension": ".py",
   "mimetype": "text/x-python",
   "name": "python",
   "nbconvert_exporter": "python",
   "pygments_lexer": "ipython3",
   "version": "3.10.2"
  }
 },
 "nbformat": 4,
 "nbformat_minor": 5
}
