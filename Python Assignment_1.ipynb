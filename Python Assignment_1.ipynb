{
 "cells": [
  {
   "cell_type": "markdown",
   "id": "637b47a5",
   "metadata": {},
   "source": [
    "## Programming Assignment_1\n",
    "-------------\n",
    "- (By Lakshmi)"
   ]
  },
  {
   "cell_type": "markdown",
   "id": "0c647dbe",
   "metadata": {},
   "source": [
    "### 1. Write a Python program to print \"Hello Python\"?"
   ]
  },
  {
   "cell_type": "code",
   "execution_count": 3,
   "id": "ffd95c85-85b4-45d3-bb1b-296098ce6f70",
   "metadata": {},
   "outputs": [
    {
     "name": "stdout",
     "output_type": "stream",
     "text": [
      "Hello Python\n"
     ]
    }
   ],
   "source": [
    "var = \"Hello Python\"\n",
    "\n",
    "print(var)"
   ]
  },
  {
   "cell_type": "markdown",
   "id": "fc18a6cd",
   "metadata": {},
   "source": [
    "### 2. Write a Python program to do arithmetical operations addition and division.?\n"
   ]
  },
  {
   "cell_type": "code",
   "execution_count": 4,
   "id": "27123c0e-f456-4b87-95e0-773653304c28",
   "metadata": {},
   "outputs": [
    {
     "name": "stdout",
     "output_type": "stream",
     "text": [
      "Enter First Number489\n",
      "Enter Second Number857\n",
      "Enter Smaller Number94\n",
      "Enter Larger Number873\n",
      "1346.0\n",
      "9.287234042553191\n"
     ]
    }
   ],
   "source": [
    "#Program For Addition Arithmetical Operation:-\n",
    "var1 = float(input(\"Enter First Number\"))\n",
    "var2 = float(input(\"Enter Second Number\"))\n",
    "\n",
    "ADD = (var1 + var2)\n",
    "\n",
    "#Program For Division Arithmetical Operation:-\n",
    "var4 = float(input(\"Enter Smaller Number\"))\n",
    "var5 = float(input(\"Enter Larger Number\"))\n",
    "\n",
    "DIV = var5 / var4\n",
    "\n",
    "#Printing Both Arithmetical Operations Programs:-\n",
    "print(ADD) #Addition Arithmetical Operation\n",
    "print(DIV) #Division Arithmetical Operation"
   ]
  },
  {
   "cell_type": "markdown",
   "id": "af6e2429",
   "metadata": {},
   "source": [
    "### 3. Write a Python program to find the area of a triangle?\n"
   ]
  },
  {
   "cell_type": "code",
   "execution_count": 5,
   "id": "67387e49-23f1-40f3-a900-88e844000cf7",
   "metadata": {},
   "outputs": [
    {
     "name": "stdout",
     "output_type": "stream",
     "text": [
      "Enter First Side of Triangle: 15\n",
      "Enter Second Side of Triangle: 12\n",
      "Enter Third Side of Triangle: 22\n",
      "Area of Triangle is: 85.28445051707844\n"
     ]
    }
   ],
   "source": [
    "#METHOD 1:-(Basic Formula with the three sides of triangle) \n",
    "\n",
    "##Sides of Triangle are s1, s2, s3:-\n",
    "\n",
    "s1 = float(input('Enter First Side of Triangle: '))  \n",
    "s2 = float(input('Enter Second Side of Triangle: '))  \n",
    "s3 = float(input('Enter Third Side of Triangle: '))  \n",
    "  \n",
    "#Calculate the semi-perimeter:- \n",
    "s = (s1 + s2 + s3) / 2  \n",
    "  \n",
    "#Calculate the area:-\n",
    "Triangle_Area = (s*(s-s1)*(s-s2)*(s-s3))** 0.5\n",
    "\n",
    "print('Area of Triangle is:', Triangle_Area)"
   ]
  },
  {
   "cell_type": "markdown",
   "id": "0917d8c8-3b48-46cf-b1f6-30687c6454e8",
   "metadata": {},
   "source": [
    "OR"
   ]
  },
  {
   "cell_type": "code",
   "execution_count": 6,
   "id": "80cfce76-4a66-4f33-8ee5-3bff2fa040e6",
   "metadata": {},
   "outputs": [
    {
     "name": "stdout",
     "output_type": "stream",
     "text": [
      "Enter Height of the Triangle: 13\n",
      "Enter Base of the Triangle: 4\n",
      "Triangle Area is:  26.0\n"
     ]
    }
   ],
   "source": [
    "#METHOD 2:-(Basic Formula with the Height & Base of triangle) \n",
    "\n",
    "h = float(input(\"Enter Height of the Triangle: \"))\n",
    "b = float(input(\"Enter Base of the Triangle: \"))\n",
    "\n",
    "Area_of_Triangle = (1 / 2) * b * h #or [Triangle_Area =  b * h * (1 / 2)]\n",
    "\n",
    "print('Triangle Area is: ', Area_of_Triangle)"
   ]
  },
  {
   "cell_type": "markdown",
   "id": "b8140061",
   "metadata": {},
   "source": [
    "### 4. Write a Python program to swap two variables?\n"
   ]
  },
  {
   "cell_type": "code",
   "execution_count": 7,
   "id": "3ac24bcb-5464-4f4a-b798-0fb011b398c1",
   "metadata": {},
   "outputs": [
    {
     "name": "stdout",
     "output_type": "stream",
     "text": [
      "Enter value of var1: 84\n",
      "Enter value of var2: 325\n",
      "After swapping var1 value became: 325\n",
      "After swapping var2 value became: 84\n"
     ]
    }
   ],
   "source": [
    "#To take inputs from the user:-\n",
    "var1 = input('Enter value of var1: ')\n",
    "var2 = input('Enter value of var2: ')\n",
    "\n",
    "#Create a temporary variable and swap the values:-\n",
    "temp_var = var1\n",
    "var1 = var2\n",
    "var2 = temp_var\n",
    "\n",
    "#Print the Swapping values of variables:- \n",
    "print('After swapping var1 value became:', var1)\n",
    "print('After swapping var2 value became:', var2)"
   ]
  },
  {
   "cell_type": "markdown",
   "id": "3f8054c1",
   "metadata": {},
   "source": [
    "### 5. Write a Python program to generate a random number?\n"
   ]
  },
  {
   "cell_type": "code",
   "execution_count": 8,
   "id": "2366f5f9-93f6-404a-95b5-2e3a9f771393",
   "metadata": {},
   "outputs": [
    {
     "name": "stdout",
     "output_type": "stream",
     "text": [
      "455\n"
     ]
    }
   ],
   "source": [
    "#First import Random module:-\n",
    "import random\n",
    "\n",
    "#Assigning variable to generating a random number the range given \n",
    "num = random.randint(289,789) #including the numbers 289 & 789\n",
    "\n",
    "#Printing the new random number every time run this code  \n",
    "print(num)"
   ]
  }
 ],
 "metadata": {
  "kernelspec": {
   "display_name": "Python 3 (ipykernel)",
   "language": "python",
   "name": "python3"
  },
  "language_info": {
   "codemirror_mode": {
    "name": "ipython",
    "version": 3
   },
   "file_extension": ".py",
   "mimetype": "text/x-python",
   "name": "python",
   "nbconvert_exporter": "python",
   "pygments_lexer": "ipython3",
   "version": "3.10.2"
  }
 },
 "nbformat": 4,
 "nbformat_minor": 5
}
